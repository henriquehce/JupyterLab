{
 "cells": [
  {
   "cell_type": "code",
   "execution_count": 1,
   "id": "84ee7ebc-8a0e-4d90-9aea-048a699febae",
   "metadata": {
    "tags": []
   },
   "outputs": [],
   "source": [
    "import numpy as np\n",
    "import sys"
   ]
  },
  {
   "cell_type": "markdown",
   "id": "38954cd9-3e42-4465-8737-348154d93d49",
   "metadata": {},
   "source": [
    "# Tamanho dos itens"
   ]
  },
  {
   "cell_type": "code",
   "execution_count": 2,
   "id": "3e740076-7f90-46de-9de3-2290d4f43d6e",
   "metadata": {
    "tags": []
   },
   "outputs": [],
   "source": [
    "a = [1,2,3,4,5]\n",
    "b = np.array([1,2,3,4,5])"
   ]
  },
  {
   "cell_type": "code",
   "execution_count": 3,
   "id": "aa6fc025-9899-4410-a95d-e0daa23a1d15",
   "metadata": {
    "tags": []
   },
   "outputs": [
    {
     "name": "stdout",
     "output_type": "stream",
     "text": [
      "[1, 2, 3, 4, 5]\n",
      "[1 2 3 4 5]\n"
     ]
    }
   ],
   "source": [
    "print(a)\n",
    "print(b)"
   ]
  },
  {
   "cell_type": "code",
   "execution_count": 4,
   "id": "3a322b12-f58a-43ac-a237-3ee6d7a28672",
   "metadata": {
    "tags": []
   },
   "outputs": [
    {
     "data": {
      "text/plain": [
       "104"
      ]
     },
     "execution_count": 4,
     "metadata": {},
     "output_type": "execute_result"
    }
   ],
   "source": [
    "sys.getsizeof(a)"
   ]
  },
  {
   "cell_type": "code",
   "execution_count": 5,
   "id": "1143b110-771f-4007-8199-9bd4b8eebcd2",
   "metadata": {
    "tags": []
   },
   "outputs": [
    {
     "data": {
      "text/plain": [
       "20"
      ]
     },
     "execution_count": 5,
     "metadata": {},
     "output_type": "execute_result"
    }
   ],
   "source": [
    "b.nbytes"
   ]
  },
  {
   "cell_type": "markdown",
   "id": "ca6560a7-e4a7-40a2-b425-523861bacb26",
   "metadata": {},
   "source": [
    "# Numero de dimensões"
   ]
  },
  {
   "cell_type": "code",
   "execution_count": 6,
   "id": "6a8d99bf-cdc7-4999-af8d-c12aa4d50b2f",
   "metadata": {
    "tags": []
   },
   "outputs": [
    {
     "name": "stdout",
     "output_type": "stream",
     "text": [
      "[1 2 3]\n",
      "(3,)\n",
      "numero de dimensoes: 1\n"
     ]
    }
   ],
   "source": [
    "#array 1D\n",
    "d1 = np.array([1,2,3])\n",
    "print(d1)\n",
    "print(d1.shape)\n",
    "print(\"numero de dimensoes:\",d1.ndim)"
   ]
  },
  {
   "cell_type": "code",
   "execution_count": 7,
   "id": "e28fe9aa-5df9-4133-8fd2-c55e73ad1292",
   "metadata": {
    "tags": []
   },
   "outputs": [
    {
     "name": "stdout",
     "output_type": "stream",
     "text": [
      "[[1 2 3]\n",
      " [4 5 6]]\n",
      "(2, 3)\n",
      "numero de dimensoes: 2\n"
     ]
    }
   ],
   "source": [
    "d2 = np.array([[1,2,3],[4,5,6]])\n",
    "print(d2)\n",
    "print(d2.shape)\n",
    "print(\"numero de dimensoes:\",d2.ndim)"
   ]
  },
  {
   "cell_type": "code",
   "execution_count": 11,
   "id": "89f9bc15-8fb7-4059-be28-11a0035acfb7",
   "metadata": {
    "tags": []
   },
   "outputs": [
    {
     "name": "stdout",
     "output_type": "stream",
     "text": [
      "[[[ 1  2  3]\n",
      "  [ 4  5  6]\n",
      "  [ 8  9  0]\n",
      "  [11 12 13]]\n",
      "\n",
      " [[ 1  2  3]\n",
      "  [ 4  5  6]\n",
      "  [ 8  9  0]\n",
      "  [11 12 13]]]\n",
      "(2, 4, 3)\n",
      "numero de dimensoes: 3\n"
     ]
    }
   ],
   "source": [
    "d3 = np.array([[[1,2,3],[4,5,6],[8,9,0],[11,12,13]],[[1,2,3],[4,5,6],[8,9,0],[11,12,13]]])\n",
    "print(d3)\n",
    "print(d3.shape)\n",
    "print(\"numero de dimensoes:\",d3.ndim)"
   ]
  },
  {
   "cell_type": "markdown",
   "id": "74eed7ba-0f9e-40df-885c-cfd6c5732c7f",
   "metadata": {},
   "source": [
    "# Somando listas"
   ]
  },
  {
   "cell_type": "code",
   "execution_count": 9,
   "id": "dd983b56-97f8-4cc4-9d55-d61458893c46",
   "metadata": {},
   "outputs": [
    {
     "name": "stdout",
     "output_type": "stream",
     "text": [
      "[2, 3, 4, 2, 3, 4]\n"
     ]
    }
   ],
   "source": [
    "a = [2,3,4]\n",
    "b = [2,3,4]\n",
    "result = a + b\n",
    "print(result)"
   ]
  },
  {
   "cell_type": "code",
   "execution_count": 10,
   "id": "1b7d18d2-00eb-47d6-86ae-bf7725f57002",
   "metadata": {
    "tags": []
   },
   "outputs": [
    {
     "name": "stdout",
     "output_type": "stream",
     "text": [
      "[4 6 8]\n"
     ]
    }
   ],
   "source": [
    "a = np.array([2,3,4])\n",
    "b = np.array([2,3,4])\n",
    "result = np.add(a,b)\n",
    "print(result)"
   ]
  },
  {
   "cell_type": "code",
   "execution_count": 21,
   "id": "ff2ae3df-11bc-44a8-824a-90598170f4ba",
   "metadata": {
    "tags": []
   },
   "outputs": [
    {
     "name": "stdout",
     "output_type": "stream",
     "text": [
      "[[1 2 3]\n",
      " [4 5 6]]\n"
     ]
    }
   ],
   "source": [
    "a = np.array([[1,2,3],[4,5,6]])\n",
    "print(a)"
   ]
  },
  {
   "cell_type": "code",
   "execution_count": 26,
   "id": "5c58c362-409f-4ee0-91c1-7417cd2e5f2c",
   "metadata": {
    "tags": []
   },
   "outputs": [
    {
     "name": "stdout",
     "output_type": "stream",
     "text": [
      "7\n"
     ]
    }
   ],
   "source": [
    "# array[row,col]\n",
    "result = np.array(a[1,1] + a[0,1])\n",
    "print(result)\n"
   ]
  }
 ],
 "metadata": {
  "kernelspec": {
   "display_name": "Python 3 (ipykernel)",
   "language": "python",
   "name": "python3"
  },
  "language_info": {
   "codemirror_mode": {
    "name": "ipython",
    "version": 3
   },
   "file_extension": ".py",
   "mimetype": "text/x-python",
   "name": "python",
   "nbconvert_exporter": "python",
   "pygments_lexer": "ipython3",
   "version": "3.11.5"
  }
 },
 "nbformat": 4,
 "nbformat_minor": 5
}
